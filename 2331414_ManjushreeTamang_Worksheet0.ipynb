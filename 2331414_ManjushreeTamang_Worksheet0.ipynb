{
  "nbformat": 4,
  "nbformat_minor": 0,
  "metadata": {
    "colab": {
      "provenance": [],
      "authorship_tag": "ABX9TyPltJoDKCfsLQ4UgLkgIMe4",
      "include_colab_link": true
    },
    "kernelspec": {
      "name": "python3",
      "display_name": "Python 3"
    },
    "language_info": {
      "name": "python"
    }
  },
  "cells": [
    {
      "cell_type": "markdown",
      "metadata": {
        "id": "view-in-github",
        "colab_type": "text"
      },
      "source": [
        "<a href=\"https://colab.research.google.com/github/manjushree7/AI-ML/blob/main/2331414_ManjushreeTamang_Worksheet0.ipynb\" target=\"_parent\"><img src=\"https://colab.research.google.com/assets/colab-badge.svg\" alt=\"Open In Colab\"/></a>"
      ]
    },
    {
      "cell_type": "markdown",
      "source": [
        "## Getting started with python"
      ],
      "metadata": {
        "id": "dDlsBrvfbngV"
      }
    },
    {
      "cell_type": "code",
      "source": [
        "# Question 1\n",
        "def length(value, unit):\n",
        "  \"\"\"\n",
        "  This function converts length between meters and feet\n",
        "  value: It stores numerical value to convert\n",
        "  unit: It adds unit of the given value\n",
        "  \"\"\"\n",
        "  if unit == 'm':\n",
        "    return value * 3.28084   # meters to feet\n",
        "  elif unit == 'f':\n",
        "    return value / 3.28084   # feet to meters\n",
        "  else:\n",
        "    raise ValueError(\"Invalid unit. Use 'm' for meters or 'f' for feet.\")\n",
        "\n",
        "def weight(value, unit):\n",
        "  \"\"\"\n",
        "  This function converts weight between kilograms and pounds\n",
        "  value: It stores numerical value to convert\n",
        "  unit: It adds unit of the given value\n",
        "  \"\"\"\n",
        "  if unit == 'kg':\n",
        "    return value * 2.20462   # kilograms to pounds\n",
        "  elif unit == 'lb':\n",
        "    return value / 2.20462   # pounds to kilograms\n",
        "  else:\n",
        "    raise ValueError(\"Invalid unit. Use 'kg' for kilograms or 'lb' for pounds.\")\n",
        "\n",
        "def volume(value, unit):\n",
        "  \"\"\"\n",
        "  This function converts volume between liters and gallons\n",
        "  value: It stores numerical value to convert\n",
        "  unit: It adds unit of the given value\n",
        "  \"\"\"\n",
        "  if unit == 'l':\n",
        "    return value * 0.264172   # liters to gallons\n",
        "  if unit == 'gal':\n",
        "    return value / 0.264172   # gallons to liters\n",
        "  else:\n",
        "    raise ValueError(\"Invalid unit. Use 'l' for liters or 'gal' for gallons.\")\n",
        "\n",
        "def main():\n",
        "  convert = {\n",
        "      \"1\": (length, \"m\", \"f\", \"meters\", \"feet\"),\n",
        "      \"2\": (weight, \"kg\", \"lb\", \"kilograms\", \"pounds\"),\n",
        "      \"3\": (volume, \"l\", \"gal\", \"liters\", \"gallons\"),\n",
        "  }\n",
        "  print(\"Unit Converter\")\n",
        "  print(\"Select conversion type:\")\n",
        "  print(\"1: Length (meters to feet / feet to meters)\")\n",
        "  print(\"2: Weight (kilograms to pounds / pounds to kilograms)\")\n",
        "  print(\"3: Volume (liters to gallons / gallons to liters)\")\n",
        "\n",
        "  choice = input(\"Enter choice (1-3): \")\n",
        "  if choice not in convert:\n",
        "      print(\"Invalid choice. Please select a valid option.\")\n",
        "      return\n",
        "\n",
        "  convert_func, unit1, unit2, unit1_name, unit2_name = convert[choice]\n",
        "\n",
        "  print(f\"Select direction:\")\n",
        "  print(f\"1: {unit1_name} to {unit2_name}\")\n",
        "  print(f\"2: {unit2_name} to {unit1_name}\")\n",
        "\n",
        "  direction = input(\"Enter choice (1-2): \")\n",
        "\n",
        "  try:\n",
        "    value = float(input(f\"Enter value in {unit1_name if direction == '1' else unit2_name}: \"))\n",
        "  except ValueError:\n",
        "    print(\"Invalid input. Please enter a numeric value.\")\n",
        "    return\n",
        "\n",
        "  if direction == \"1\":\n",
        "    result = convert_func(value, unit1)\n",
        "    print(f\"{value} {unit1_name} is {result:.2f} {unit2_name}.\")\n",
        "  elif direction == \"2\":\n",
        "    result = convert_func(value, unit2)\n",
        "    print(f\"{value} {unit2_name} is {result:.2f} {unit1_name}.\")\n",
        "  else:\n",
        "    print(\"Invalid choice. Please select a valid direction.\")\n",
        "\n",
        "if __name__ == \"__main__\":\n",
        "    main()\n",
        "\n"
      ],
      "metadata": {
        "id": "epfS6JExbpQJ",
        "colab": {
          "base_uri": "https://localhost:8080/"
        },
        "outputId": "bf2a997c-77b3-44f5-e8c7-8970370c4fe0"
      },
      "execution_count": 2,
      "outputs": [
        {
          "output_type": "stream",
          "name": "stdout",
          "text": [
            "Unit Converter\n",
            "Select conversion type:\n",
            "1: Length (meters to feet / feet to meters)\n",
            "2: Weight (kilograms to pounds / pounds to kilograms)\n",
            "3: Volume (liters to gallons / gallons to liters)\n",
            "Enter choice (1-3): 1\n",
            "Select direction:\n",
            "1: meters to feet\n",
            "2: feet to meters\n",
            "Enter choice (1-2): 2\n",
            "Enter value in feet: 5.5\n",
            "5.5 feet is 1.68 meters.\n"
          ]
        }
      ]
    },
    {
      "cell_type": "code",
      "source": [
        "# Question 2\n",
        "def calculate_sum(num):\n",
        "    \"\"\"Returns the sum of a list of numbers\"\"\"\n",
        "    return sum(num)\n",
        "\n",
        "def calculate_average(num):\n",
        "    \"\"\"Returns the average of a list of numbers\"\"\"\n",
        "    return sum(num) / len(num) if num else 0\n",
        "\n",
        "def find_maximum(num):\n",
        "    \"\"\"Returns the maximum value in a list of numbers\"\"\"\n",
        "    return max(num)\n",
        "\n",
        "def find_minimum(num):\n",
        "    \"\"\"Returns the minimum value in a list of numbers\"\"\"\n",
        "    return min(num)\n",
        "\n",
        "def main():\n",
        "    \"\"\"Main function to handle user input and perform calculations\"\"\"\n",
        "    operations = {\n",
        "        \"1\": (calculate_sum, \"Sum\"),\n",
        "        \"2\": (calculate_average, \"Average\"),\n",
        "        \"3\": (find_maximum, \"Maximum\"),\n",
        "        \"4\": (find_minimum, \"Minimum\"),\n",
        "    }\n",
        "\n",
        "    print(\"Mathematical Operations on a List of Numbers\")\n",
        "    print(\"Select an operation:\")\n",
        "    print(\"1: Find the Sum\")\n",
        "    print(\"2: Find the Average\")\n",
        "    print(\"3: Find the Maximum\")\n",
        "    print(\"4: Find the Minimum\")\n",
        "\n",
        "    choice = input(\"Enter choice (1-4): \")\n",
        "\n",
        "    if choice not in operations:\n",
        "        print(\"Invalid choice. Please select a valid option\")\n",
        "        return\n",
        "\n",
        "    try:\n",
        "        num = list(map(float, input(\"Enter a list of numbers separated by spaces: \").split()))\n",
        "        if not num:\n",
        "            raise ValueError(\"The list cannot be empty.\")\n",
        "    except ValueError:\n",
        "        print(\"Invalid input. Please enter numeric values separated by spaces.\")\n",
        "        return\n",
        "\n",
        "    operation_func, operation_name = operations[choice]\n",
        "    result = operation_func(num)\n",
        "    print(f\"The {operation_name} of the given numbers is: {result:.2f}\")\n",
        "\n",
        "if __name__ == \"__main__\":\n",
        "    main()"
      ],
      "metadata": {
        "id": "69dVo3sUcp-2",
        "colab": {
          "base_uri": "https://localhost:8080/"
        },
        "outputId": "4d23ef14-7513-45e5-a4ac-93499e06bd45"
      },
      "execution_count": 3,
      "outputs": [
        {
          "output_type": "stream",
          "name": "stdout",
          "text": [
            "Mathematical Operations on a List of Numbers\n",
            "Select an operation:\n",
            "1: Find the Sum\n",
            "2: Find the Average\n",
            "3: Find the Maximum\n",
            "4: Find the Minimum\n",
            "Enter choice (1-4): 1\n",
            "Enter a list of numbers separated by spaces: 12\n",
            "The Sum of the given numbers is: 12.00\n"
          ]
        }
      ]
    },
    {
      "cell_type": "code",
      "source": [
        "# Question 3\n",
        "def extract_every_other(lst):\n",
        "    return lst[::2]\n",
        "print(extract_every_other([1, 2, 3, 4, 5, 6]))"
      ],
      "metadata": {
        "colab": {
          "base_uri": "https://localhost:8080/"
        },
        "id": "26jYgqFzNGXS",
        "outputId": "4b312d5b-3c78-4113-9d89-407b08a6ef10"
      },
      "execution_count": 4,
      "outputs": [
        {
          "output_type": "stream",
          "name": "stdout",
          "text": [
            "[1, 3, 5]\n"
          ]
        }
      ]
    },
    {
      "cell_type": "code",
      "source": [
        "# Question 4\n",
        "def get_sublist(lst, start, end):\n",
        "    return lst[start:end+1]\n",
        "print(get_sublist([1, 2, 3, 4, 5, 6], 2, 4))"
      ],
      "metadata": {
        "colab": {
          "base_uri": "https://localhost:8080/"
        },
        "id": "G3fX7JA6NsMZ",
        "outputId": "a447571c-a93a-4da8-d723-fb0571622d93"
      },
      "execution_count": 5,
      "outputs": [
        {
          "output_type": "stream",
          "name": "stdout",
          "text": [
            "[3, 4, 5]\n"
          ]
        }
      ]
    },
    {
      "cell_type": "code",
      "source": [
        "# Question 5\n",
        "def reverse_list(lst):\n",
        "    return lst[::-1]\n",
        "print(reverse_list([1, 2, 3, 4, 5]))\n"
      ],
      "metadata": {
        "colab": {
          "base_uri": "https://localhost:8080/"
        },
        "id": "ySUfEbJkOKs-",
        "outputId": "b91cc970-1559-49b7-b990-b850cd389d43"
      },
      "execution_count": 6,
      "outputs": [
        {
          "output_type": "stream",
          "name": "stdout",
          "text": [
            "[5, 4, 3, 2, 1]\n"
          ]
        }
      ]
    },
    {
      "cell_type": "code",
      "source": [
        "# Question 6\n",
        "def remove_first_last(lst):\n",
        "    return lst[1:-1]\n",
        "print(remove_first_last([1, 2, 3, 4, 5]))\n"
      ],
      "metadata": {
        "colab": {
          "base_uri": "https://localhost:8080/"
        },
        "id": "JKwcBK37Oi5R",
        "outputId": "afd891e7-7e15-4545-8a19-c8db09580539"
      },
      "execution_count": 7,
      "outputs": [
        {
          "output_type": "stream",
          "name": "stdout",
          "text": [
            "[2, 3, 4]\n"
          ]
        }
      ]
    },
    {
      "cell_type": "code",
      "source": [
        "# Question 7\n",
        "def get_first_n(lst, n):\n",
        "    return lst[:n]\n",
        "print(get_first_n([1, 2, 3, 4, 5], 3))"
      ],
      "metadata": {
        "colab": {
          "base_uri": "https://localhost:8080/"
        },
        "id": "iN52Jt7kOw9Z",
        "outputId": "e62ad17c-c514-4df1-80fd-bb5dd42e2812"
      },
      "execution_count": 8,
      "outputs": [
        {
          "output_type": "stream",
          "name": "stdout",
          "text": [
            "[1, 2, 3]\n"
          ]
        }
      ]
    },
    {
      "cell_type": "code",
      "source": [
        "# Question 8\n",
        "def get_last_n(lst, n):\n",
        "    return lst[-n:]\n",
        "print(get_last_n([1, 2, 3, 4, 5], 2))"
      ],
      "metadata": {
        "colab": {
          "base_uri": "https://localhost:8080/"
        },
        "id": "Mcb7OeKDPDx9",
        "outputId": "07032953-2754-4df9-9318-1e90532f7a62"
      },
      "execution_count": 9,
      "outputs": [
        {
          "output_type": "stream",
          "name": "stdout",
          "text": [
            "[4, 5]\n"
          ]
        }
      ]
    },
    {
      "cell_type": "code",
      "source": [
        "# Question 9\n",
        "def reverse_skip(lst):\n",
        "    return lst[-2::-2]\n",
        "print(reverse_skip([1, 2, 3, 4, 5, 6]))"
      ],
      "metadata": {
        "colab": {
          "base_uri": "https://localhost:8080/"
        },
        "id": "FPUA8lQJPXew",
        "outputId": "a7c24698-6264-444b-bbd2-1b41f718a303"
      },
      "execution_count": 10,
      "outputs": [
        {
          "output_type": "stream",
          "name": "stdout",
          "text": [
            "[5, 3, 1]\n"
          ]
        }
      ]
    },
    {
      "cell_type": "code",
      "source": [
        "# Question 10\n",
        "def flatten(lst):\n",
        "    return [item for sublist in lst for item in sublist]\n",
        "print(flatten([[1, 2], [3, 4], [5]]))"
      ],
      "metadata": {
        "colab": {
          "base_uri": "https://localhost:8080/"
        },
        "id": "3wvZbbcHPYta",
        "outputId": "02741366-0257-4839-9ff4-50f99a22a1c8"
      },
      "execution_count": 11,
      "outputs": [
        {
          "output_type": "stream",
          "name": "stdout",
          "text": [
            "[1, 2, 3, 4, 5]\n"
          ]
        }
      ]
    },
    {
      "cell_type": "code",
      "source": [
        "# Question 11\n",
        "def access_nested_element(lst, indices):\n",
        "    element = lst  #start from the outermost list\n",
        "    for index in indices:\n",
        "        element = element[index]  #navigate to the next level\n",
        "    return element\n",
        "nested_list = [[1, 2, 3], [4, 5, 6], [7, 8, 9]]\n",
        "indices = [1, 2]\n",
        "print(access_nested_element(nested_list, indices))"
      ],
      "metadata": {
        "colab": {
          "base_uri": "https://localhost:8080/"
        },
        "id": "NO-QGAyrPY4c",
        "outputId": "0ff62283-1c69-4da8-de2a-4743a8f73455"
      },
      "execution_count": 12,
      "outputs": [
        {
          "output_type": "stream",
          "name": "stdout",
          "text": [
            "6\n"
          ]
        }
      ]
    },
    {
      "cell_type": "code",
      "source": [
        "# Question 12\n",
        "def sum_nested(lst):\n",
        "    total = 0\n",
        "    for element in lst:\n",
        "        if isinstance(element, list):  #check if the element is a list\n",
        "            total += sum_nested(element)  #recursively sum elements in sublist\n",
        "        else:\n",
        "            total += element  # Add the number to the total\n",
        "    return total\n",
        "nested_list = [[1, 2], [3, [4, 5]], 6]\n",
        "print(sum_nested(nested_list))"
      ],
      "metadata": {
        "colab": {
          "base_uri": "https://localhost:8080/"
        },
        "id": "GBsBH-SxPZDU",
        "outputId": "c635d2ac-9a24-431e-a78e-e32eba697d45"
      },
      "execution_count": 13,
      "outputs": [
        {
          "output_type": "stream",
          "name": "stdout",
          "text": [
            "21\n"
          ]
        }
      ]
    },
    {
      "cell_type": "code",
      "source": [
        "# Question 13\n",
        "def remove_element(lst, elem):\n",
        "    for i in range(len(lst)):\n",
        "        if isinstance(lst[i], list):  #check if the element is a sublist\n",
        "            lst[i] = remove_element(lst[i], elem)  #recursively remove from sublist\n",
        "            while elem in lst[i]:  #remove all occurrences of elem in the current sublist\n",
        "                lst[i].remove(elem)\n",
        "        elif isinstance(lst[i], list) == False and lst[i] == elem:  #handle integer elements\n",
        "            lst.remove(lst[i])  #remove integer element if it matches elem\n",
        "    return lst\n",
        "nested_list = [[1, 2], [3, 2], [4, 5]]\n",
        "elem = 2\n",
        "print(remove_element(nested_list, elem))"
      ],
      "metadata": {
        "colab": {
          "base_uri": "https://localhost:8080/"
        },
        "id": "Di6NOQ-QPZNN",
        "outputId": "4c031160-75ed-475b-f34f-198bf627412f"
      },
      "execution_count": 14,
      "outputs": [
        {
          "output_type": "stream",
          "name": "stdout",
          "text": [
            "[[1], [3], [4, 5]]\n"
          ]
        }
      ]
    },
    {
      "cell_type": "code",
      "source": [
        "# Question 14\n",
        "def find_max(lst):\n",
        "    max_element = None  #initialize as None to handle the first comparison\n",
        "    for element in lst:\n",
        "        if isinstance(element, list):  #if the element is a sublist, call recursively\n",
        "            element_max = find_max(element)\n",
        "            if element_max is not None:  #only compare if the sublist is not empty\n",
        "                if max_element is None or element_max > max_element:\n",
        "                    max_element = element_max\n",
        "        else:\n",
        "            if max_element is None or element > max_element:\n",
        "                max_element = element  #update max_element if a larger element is found\n",
        "\n",
        "    return max_element\n",
        "nested_list = [[1, 2], [3, [4, 5]], 6]\n",
        "print(find_max(nested_list))"
      ],
      "metadata": {
        "colab": {
          "base_uri": "https://localhost:8080/"
        },
        "id": "OV0kTe3WTrWo",
        "outputId": "f31e2c42-84a1-4173-f927-223cc4036c63"
      },
      "execution_count": 15,
      "outputs": [
        {
          "output_type": "stream",
          "name": "stdout",
          "text": [
            "6\n"
          ]
        }
      ]
    },
    {
      "cell_type": "code",
      "source": [
        "# Question 15\n",
        "def count_occurrences(lst, elem):\n",
        "    count = 0  #initialize the count to zero\n",
        "    for element in lst:\n",
        "        if isinstance(element, list):\n",
        "            count += count_occurrences(element, elem)  #add count from the sublist\n",
        "        else:\n",
        "            if element == elem:  #if the element matches the target element, increase the count\n",
        "                count += 1\n",
        "    return count\n",
        "lst = [[1, 2], [2, 3], [2, 4]]\n",
        "elem = 2\n",
        "print(count_occurrences(lst, elem))"
      ],
      "metadata": {
        "colab": {
          "base_uri": "https://localhost:8080/"
        },
        "id": "pxzLbLKWTrfZ",
        "outputId": "639a273a-da03-41d9-8e60-b0d74fcdd9c3"
      },
      "execution_count": 16,
      "outputs": [
        {
          "output_type": "stream",
          "name": "stdout",
          "text": [
            "3\n"
          ]
        }
      ]
    },
    {
      "cell_type": "code",
      "source": [
        "# Question 16\n",
        "def deep_flatten(lst):\n",
        "    flattened = []  #initialize an empty list to hold the flattened elements\n",
        "    for element in lst:\n",
        "        if isinstance(element, list):\n",
        "            flattened.extend(deep_flatten(element))  # Flatten the sublist and add its elements\n",
        "        else:\n",
        "            flattened.append(element)  # If it's not a list, add the element to the flattened list\n",
        "    return flattened\n",
        "nested_list = [[[1, 2], [3, 4]], [[5, 6], [7, 8]]]\n",
        "print(deep_flatten(nested_list))"
      ],
      "metadata": {
        "colab": {
          "base_uri": "https://localhost:8080/"
        },
        "id": "YxM9qhKbTroF",
        "outputId": "76f24f95-0b35-4cca-bec7-f735f4e4fb38"
      },
      "execution_count": 17,
      "outputs": [
        {
          "output_type": "stream",
          "name": "stdout",
          "text": [
            "[1, 2, 3, 4, 5, 6, 7, 8]\n"
          ]
        }
      ]
    },
    {
      "cell_type": "code",
      "source": [
        "# Question 17\n",
        "def average_nested(lst):\n",
        "    total_sum = 0\n",
        "    total_count = 0\n",
        "\n",
        "    for element in lst:\n",
        "        if isinstance(element, list):\n",
        "            sub_sum, sub_count = average_nested(element)\n",
        "            total_sum += sub_sum  #add the sum from the sublist\n",
        "            total_count += sub_count  #add the count from the sublist\n",
        "        else:\n",
        "            total_sum += element  #add the current element to the sum\n",
        "            total_count += 1  #increase the count of elements\n",
        "\n",
        "    #return the sum and count of elements to calculate average later\n",
        "    return total_sum, total_count\n",
        "\n",
        "#wrapper to calculate the average based on the sum and count\n",
        "def calculate_average(lst):\n",
        "    total_sum, total_count = average_nested(lst)\n",
        "    return total_sum / total_count\n",
        "\n",
        "nested_list = [[1, 2], [3, 4], [5, 6]]\n",
        "print(calculate_average(nested_list))"
      ],
      "metadata": {
        "colab": {
          "base_uri": "https://localhost:8080/"
        },
        "id": "nWSYQ9T3TrwQ",
        "outputId": "e54cadcc-348d-42b0-b9bd-93f84ce23f72"
      },
      "execution_count": 18,
      "outputs": [
        {
          "output_type": "stream",
          "name": "stdout",
          "text": [
            "3.5\n"
          ]
        }
      ]
    },
    {
      "cell_type": "markdown",
      "source": [
        "## Getting started with Numpy"
      ],
      "metadata": {
        "id": "GoNAGsY5YobM"
      }
    },
    {
      "cell_type": "code",
      "source": [
        "import numpy as np"
      ],
      "metadata": {
        "id": "uaSfxbhvaJ7n"
      },
      "execution_count": 19,
      "outputs": []
    },
    {
      "cell_type": "code",
      "source": [
        "# Question 1\n",
        "#initialize a 2x2 empty array (list) with None or zeros\n",
        "empty_array = [[None, None], [None, None]]\n",
        "print(empty_array)"
      ],
      "metadata": {
        "colab": {
          "base_uri": "https://localhost:8080/"
        },
        "id": "0568vFHZYmwY",
        "outputId": "1d0fe0fe-a6e6-4339-adb6-7a74e3ddad72"
      },
      "execution_count": 20,
      "outputs": [
        {
          "output_type": "stream",
          "name": "stdout",
          "text": [
            "[[None, None], [None, None]]\n"
          ]
        }
      ]
    },
    {
      "cell_type": "code",
      "source": [
        "# Question 2\n",
        "#initialize a 4x2 array with all elements set to 1\n",
        "ones_array = np.ones((4, 2), dtype=int)\n",
        "print(ones_array)"
      ],
      "metadata": {
        "colab": {
          "base_uri": "https://localhost:8080/"
        },
        "id": "FtavQuNSYm7J",
        "outputId": "3137b20d-7bb5-44be-9c98-40532963cf1b"
      },
      "execution_count": 21,
      "outputs": [
        {
          "output_type": "stream",
          "name": "stdout",
          "text": [
            "[[1 1]\n",
            " [1 1]\n",
            " [1 1]\n",
            " [1 1]]\n"
          ]
        }
      ]
    },
    {
      "cell_type": "code",
      "source": [
        "# Question 3\n",
        "#define the shape and fill value\n",
        "shape = (4, 2)\n",
        "fill_value = 7\n",
        "#create a 4x2 array filled with the value 7\n",
        "filled_array = np.full(shape, fill_value, dtype=int)\n",
        "print(filled_array)"
      ],
      "metadata": {
        "colab": {
          "base_uri": "https://localhost:8080/"
        },
        "id": "CLSTBOx1YnL-",
        "outputId": "8b1eb624-0fa7-4d21-cee9-f76a382c4590"
      },
      "execution_count": 22,
      "outputs": [
        {
          "output_type": "stream",
          "name": "stdout",
          "text": [
            "[[7 7]\n",
            " [7 7]\n",
            " [7 7]\n",
            " [7 7]]\n"
          ]
        }
      ]
    },
    {
      "cell_type": "code",
      "source": [
        "# Question 4\n",
        "original_array = np.array([[1, 2], [3, 4]])\n",
        "zeros_array = np.zeros_like(original_array)\n",
        "print(zeros_array)"
      ],
      "metadata": {
        "colab": {
          "base_uri": "https://localhost:8080/"
        },
        "id": "KFeG71rzauv2",
        "outputId": "66a5a5e6-b0f9-4af9-8643-546fa0937033"
      },
      "execution_count": 23,
      "outputs": [
        {
          "output_type": "stream",
          "name": "stdout",
          "text": [
            "[[0 0]\n",
            " [0 0]]\n"
          ]
        }
      ]
    },
    {
      "cell_type": "code",
      "source": [
        "# Question 5\n",
        "original_array = np.array([[1, 2], [3, 4]])\n",
        "ones_array = np.ones_like(original_array)\n",
        "print(ones_array)"
      ],
      "metadata": {
        "colab": {
          "base_uri": "https://localhost:8080/"
        },
        "id": "8eznI6kOau4r",
        "outputId": "8c095df3-86c4-4ae6-8f6a-96bc0f35efad"
      },
      "execution_count": 24,
      "outputs": [
        {
          "output_type": "stream",
          "name": "stdout",
          "text": [
            "[[1 1]\n",
            " [1 1]]\n"
          ]
        }
      ]
    },
    {
      "cell_type": "code",
      "source": [
        "# Question 6\n",
        "new_list = [1, 2, 3, 4]\n",
        "np_array = np.array(new_list)\n",
        "print(np_array)"
      ],
      "metadata": {
        "colab": {
          "base_uri": "https://localhost:8080/"
        },
        "id": "sRapQPEtau7U",
        "outputId": "e1b71c66-90b6-46e6-aca4-e1c4b86e665c"
      },
      "execution_count": 25,
      "outputs": [
        {
          "output_type": "stream",
          "name": "stdout",
          "text": [
            "[1 2 3 4]\n"
          ]
        }
      ]
    },
    {
      "cell_type": "code",
      "source": [
        "# Question 7\n",
        "array = np.arange(10, 50)\n",
        "print(array)"
      ],
      "metadata": {
        "colab": {
          "base_uri": "https://localhost:8080/"
        },
        "id": "lMfuaS1hau-I",
        "outputId": "4f1121ff-dc07-4c7f-84d8-5327b478f5b4"
      },
      "execution_count": 26,
      "outputs": [
        {
          "output_type": "stream",
          "name": "stdout",
          "text": [
            "[10 11 12 13 14 15 16 17 18 19 20 21 22 23 24 25 26 27 28 29 30 31 32 33\n",
            " 34 35 36 37 38 39 40 41 42 43 44 45 46 47 48 49]\n"
          ]
        }
      ]
    },
    {
      "cell_type": "code",
      "source": [
        "# Question 8\n",
        "array = np.arange(9)\n",
        "#reshape the array into a 3x3 matrix\n",
        "matrix = array.reshape(3, 3)\n",
        "print(matrix)"
      ],
      "metadata": {
        "colab": {
          "base_uri": "https://localhost:8080/"
        },
        "id": "PoGTwcSQavBp",
        "outputId": "2726fe9b-3070-4576-bced-c8b9f733d167"
      },
      "execution_count": 27,
      "outputs": [
        {
          "output_type": "stream",
          "name": "stdout",
          "text": [
            "[[0 1 2]\n",
            " [3 4 5]\n",
            " [6 7 8]]\n"
          ]
        }
      ]
    },
    {
      "cell_type": "code",
      "source": [
        "# Question 9\n",
        "#create a 3x3 identity matrix\n",
        "identity_matrix = np.eye(3)\n",
        "print(identity_matrix)"
      ],
      "metadata": {
        "colab": {
          "base_uri": "https://localhost:8080/"
        },
        "id": "YmwzF4RTblz5",
        "outputId": "98e59435-a6d8-46ef-dd72-b0855f11671e"
      },
      "execution_count": 28,
      "outputs": [
        {
          "output_type": "stream",
          "name": "stdout",
          "text": [
            "[[1. 0. 0.]\n",
            " [0. 1. 0.]\n",
            " [0. 0. 1.]]\n"
          ]
        }
      ]
    },
    {
      "cell_type": "code",
      "source": [
        "# Question 10\n",
        "#create a random array of size 30\n",
        "random_array = np.random.random(30)\n",
        "\n",
        "#calculate the mean of the array\n",
        "mean_value = random_array.mean()\n",
        "\n",
        "print(\"Random Array:\", random_array)\n",
        "print(\"Mean of the array:\", mean_value)"
      ],
      "metadata": {
        "colab": {
          "base_uri": "https://localhost:8080/"
        },
        "id": "gbbIOftLbl9B",
        "outputId": "d2791537-efc5-4e18-ad54-8399a43d153d"
      },
      "execution_count": 29,
      "outputs": [
        {
          "output_type": "stream",
          "name": "stdout",
          "text": [
            "Random Array: [0.91990243 0.0297249  0.61475234 0.81707976 0.36725869 0.55974605\n",
            " 0.70519935 0.27810747 0.21083758 0.23052389 0.77476086 0.66339061\n",
            " 0.55591126 0.808332   0.40018278 0.74767262 0.25349776 0.93490837\n",
            " 0.90617168 0.03635577 0.06260503 0.1961559  0.7122324  0.66054196\n",
            " 0.74672343 0.26492037 0.81953736 0.9861889  0.95376977 0.08084396]\n",
            "Mean of the array: 0.5432611740721338\n"
          ]
        }
      ]
    },
    {
      "cell_type": "code",
      "source": [
        "# Question 11\n",
        "#create a 10x10 array with random values\n",
        "random_array = np.random.random((10, 10))\n",
        "\n",
        "#find the minimum value in the array\n",
        "min_value = random_array.min()\n",
        "\n",
        "#find the maximum value in the array\n",
        "max_value = random_array.max()\n",
        "\n",
        "print(\"Random Array:\")\n",
        "print(random_array)\n",
        "print(\"Minimum Value:\", min_value)\n",
        "print(\"Maximum Value:\", max_value)"
      ],
      "metadata": {
        "colab": {
          "base_uri": "https://localhost:8080/"
        },
        "id": "atYgkM3qbmFV",
        "outputId": "b1b0bb80-b727-4206-825b-cbcd56432f3f"
      },
      "execution_count": 30,
      "outputs": [
        {
          "output_type": "stream",
          "name": "stdout",
          "text": [
            "Random Array:\n",
            "[[0.51297961 0.98690842 0.39758753 0.21126864 0.80581129 0.71495257\n",
            "  0.27482145 0.71302763 0.66677381 0.09427902]\n",
            " [0.20242876 0.82518354 0.52081344 0.92121816 0.81661316 0.63610965\n",
            "  0.61502682 0.48231947 0.06761475 0.64088177]\n",
            " [0.23537852 0.59660411 0.57438932 0.22503301 0.01637803 0.44706941\n",
            "  0.09955709 0.27399885 0.99805512 0.01077578]\n",
            " [0.51605561 0.64826614 0.4945697  0.17056205 0.33816369 0.79761141\n",
            "  0.64674796 0.40085101 0.92380193 0.62857989]\n",
            " [0.08229351 0.0606239  0.14102676 0.2035521  0.0882245  0.74055552\n",
            "  0.41723214 0.03096019 0.17553103 0.50935188]\n",
            " [0.4467432  0.88302669 0.98057678 0.04848782 0.77786171 0.62877109\n",
            "  0.76632126 0.88183044 0.86456972 0.95676838]\n",
            " [0.10517827 0.74185922 0.48738037 0.36459564 0.04675839 0.55066534\n",
            "  0.71895762 0.09469654 0.08949458 0.67097616]\n",
            " [0.49293067 0.85302725 0.31810674 0.5544793  0.2615563  0.68867458\n",
            "  0.32447452 0.67559317 0.13559029 0.68261134]\n",
            " [0.08600899 0.51830756 0.21039452 0.46026918 0.68529797 0.77471477\n",
            "  0.71775535 0.63311689 0.09945911 0.83654699]\n",
            " [0.16361061 0.81754901 0.61750227 0.48406402 0.46130269 0.65915346\n",
            "  0.24662538 0.10524102 0.11155129 0.46139571]]\n",
            "Minimum Value: 0.010775782159312741\n",
            "Maximum Value: 0.9980551186474635\n"
          ]
        }
      ]
    },
    {
      "cell_type": "code",
      "source": [
        "# Question 12\n",
        "#create a zero array of size 10\n",
        "zero_array = np.zeros(10)\n",
        "zero_array[4] = 1\n",
        "print(zero_array)"
      ],
      "metadata": {
        "colab": {
          "base_uri": "https://localhost:8080/"
        },
        "id": "Y77Vb4babmNA",
        "outputId": "2a2c92ea-0f48-4c7a-95a1-d0ed5ec45942"
      },
      "execution_count": 31,
      "outputs": [
        {
          "output_type": "stream",
          "name": "stdout",
          "text": [
            "[0. 0. 0. 0. 1. 0. 0. 0. 0. 0.]\n"
          ]
        }
      ]
    },
    {
      "cell_type": "code",
      "source": [
        "# Question 13\n",
        "arr = [1, 2, 0, 0, 4, 0]\n",
        "#reverse the array\n",
        "reversed_arr = arr[::-1]\n",
        "print(reversed_arr)"
      ],
      "metadata": {
        "colab": {
          "base_uri": "https://localhost:8080/"
        },
        "id": "VsF56BtlbmUF",
        "outputId": "dd90be42-e326-4db9-b97f-ac8a1ad22950"
      },
      "execution_count": 32,
      "outputs": [
        {
          "output_type": "stream",
          "name": "stdout",
          "text": [
            "[0, 4, 0, 0, 2, 1]\n"
          ]
        }
      ]
    },
    {
      "cell_type": "code",
      "source": [
        "# Question 14\n",
        "# Create 2D array of ones with shape (5, 5)\n",
        "array = np.ones((5, 5))\n",
        "# Set the inner elements to 0\n",
        "array[1:-1, 1:-1] = 0\n",
        "print(array)"
      ],
      "metadata": {
        "colab": {
          "base_uri": "https://localhost:8080/"
        },
        "id": "nJN4P-wwbma_",
        "outputId": "5c3efa20-17e0-4d6f-afe1-194f741a27b2"
      },
      "execution_count": 33,
      "outputs": [
        {
          "output_type": "stream",
          "name": "stdout",
          "text": [
            "[[1. 1. 1. 1. 1.]\n",
            " [1. 0. 0. 0. 1.]\n",
            " [1. 0. 0. 0. 1.]\n",
            " [1. 0. 0. 0. 1.]\n",
            " [1. 1. 1. 1. 1.]]\n"
          ]
        }
      ]
    },
    {
      "cell_type": "code",
      "source": [
        "# Question 15\n",
        "#create 8x8 array of zeros\n",
        "matrix = np.zeros((8, 8))\n",
        "#fill the checkerboard pattern\n",
        "matrix[::2, ::2] = 1  #set 1 on every even row and even column\n",
        "matrix[1::2, 1::2] = 1  #set 1 on every odd row and odd column\n",
        "print(matrix)"
      ],
      "metadata": {
        "colab": {
          "base_uri": "https://localhost:8080/"
        },
        "id": "N4VxbPA0bmh9",
        "outputId": "9a9d1713-87a4-4640-9906-a23e50ff9f16"
      },
      "execution_count": 34,
      "outputs": [
        {
          "output_type": "stream",
          "name": "stdout",
          "text": [
            "[[1. 0. 1. 0. 1. 0. 1. 0.]\n",
            " [0. 1. 0. 1. 0. 1. 0. 1.]\n",
            " [1. 0. 1. 0. 1. 0. 1. 0.]\n",
            " [0. 1. 0. 1. 0. 1. 0. 1.]\n",
            " [1. 0. 1. 0. 1. 0. 1. 0.]\n",
            " [0. 1. 0. 1. 0. 1. 0. 1.]\n",
            " [1. 0. 1. 0. 1. 0. 1. 0.]\n",
            " [0. 1. 0. 1. 0. 1. 0. 1.]]\n"
          ]
        }
      ]
    },
    {
      "cell_type": "code",
      "source": [
        "# Question 15\n",
        "x = np.array([[1, 2], [3, 5]])\n",
        "y = np.array([[5, 6], [7, 8]])\n",
        "v = np.array([9, 10])\n",
        "w = np.array([11, 12])"
      ],
      "metadata": {
        "id": "tInfMsxfeEKe"
      },
      "execution_count": 35,
      "outputs": []
    },
    {
      "cell_type": "code",
      "source": [
        "add = x + y\n",
        "print(\"Addition of x and y:\\n\", add)"
      ],
      "metadata": {
        "colab": {
          "base_uri": "https://localhost:8080/"
        },
        "id": "AOi7wXSlemML",
        "outputId": "557e8b22-d97d-4ccf-e9d7-0cf79f67d632"
      },
      "execution_count": 36,
      "outputs": [
        {
          "output_type": "stream",
          "name": "stdout",
          "text": [
            "Addition of x and y:\n",
            " [[ 6  8]\n",
            " [10 13]]\n"
          ]
        }
      ]
    },
    {
      "cell_type": "code",
      "source": [
        "subtract = x - y\n",
        "print(\"Subtraction of x and y:\\n\", subtract)"
      ],
      "metadata": {
        "colab": {
          "base_uri": "https://localhost:8080/"
        },
        "id": "h8zyKXrqeu1a",
        "outputId": "a0f720f4-8d2b-4a27-b3af-79ea2e001a11"
      },
      "execution_count": 37,
      "outputs": [
        {
          "output_type": "stream",
          "name": "stdout",
          "text": [
            "Subtraction of x and y:\n",
            " [[-4 -4]\n",
            " [-4 -3]]\n"
          ]
        }
      ]
    },
    {
      "cell_type": "code",
      "source": [
        "multiply_x = x * 2\n",
        "multiply_y = y * 2\n",
        "print(\"Multiplication of x by 2:\\n\", multiply_x)\n",
        "print(\"Multiplication of y by 2:\\n\", multiply_y)"
      ],
      "metadata": {
        "colab": {
          "base_uri": "https://localhost:8080/"
        },
        "id": "vpUO98EHeu8L",
        "outputId": "273a03b0-c233-41d9-f4df-d64968a88f6d"
      },
      "execution_count": 38,
      "outputs": [
        {
          "output_type": "stream",
          "name": "stdout",
          "text": [
            "Multiplication of x by 2:\n",
            " [[ 2  4]\n",
            " [ 6 10]]\n",
            "Multiplication of y by 2:\n",
            " [[10 12]\n",
            " [14 16]]\n"
          ]
        }
      ]
    },
    {
      "cell_type": "code",
      "source": [
        "square_x = np.square(x)\n",
        "square_y = np.square(y)\n",
        "print(\"Square of each element of x:\\n\", square_x)\n",
        "print(\"Square of each element of y:\\n\", square_y)"
      ],
      "metadata": {
        "colab": {
          "base_uri": "https://localhost:8080/"
        },
        "id": "Y3nN_yrJevCy",
        "outputId": "a75b11cb-ae12-4941-8592-5fca8c7d8cc7"
      },
      "execution_count": 39,
      "outputs": [
        {
          "output_type": "stream",
          "name": "stdout",
          "text": [
            "Square of each element of x:\n",
            " [[ 1  4]\n",
            " [ 9 25]]\n",
            "Square of each element of y:\n",
            " [[25 36]\n",
            " [49 64]]\n"
          ]
        }
      ]
    },
    {
      "cell_type": "code",
      "source": [
        "dot_vw = np.dot(v, w)\n",
        "print(\"Dot product between v and w:\", dot_vw)"
      ],
      "metadata": {
        "colab": {
          "base_uri": "https://localhost:8080/"
        },
        "id": "HVl_YY5kfJDI",
        "outputId": "6cae3301-2af8-49ff-f84c-5cb58768b789"
      },
      "execution_count": 40,
      "outputs": [
        {
          "output_type": "stream",
          "name": "stdout",
          "text": [
            "Dot product between v and w: 219\n"
          ]
        }
      ]
    },
    {
      "cell_type": "code",
      "source": [
        "dot_xv = np.dot(x, v)\n",
        "print(\"Dot product between x and v:\\n\", dot_xv)"
      ],
      "metadata": {
        "colab": {
          "base_uri": "https://localhost:8080/"
        },
        "id": "_ioaGLZOfJKW",
        "outputId": "c6117c1b-6996-4087-f806-6c0ee11ad187"
      },
      "execution_count": 41,
      "outputs": [
        {
          "output_type": "stream",
          "name": "stdout",
          "text": [
            "Dot product between x and v:\n",
            " [29 77]\n"
          ]
        }
      ]
    },
    {
      "cell_type": "code",
      "source": [
        "dot_xy = np.dot(x, y)\n",
        "print(\"Dot product between x and y:\\n\", dot_xy)"
      ],
      "metadata": {
        "colab": {
          "base_uri": "https://localhost:8080/"
        },
        "id": "6MbIamqDfJQC",
        "outputId": "4117fdb4-aeb8-45fe-8baa-af8c0c657b5e"
      },
      "execution_count": 42,
      "outputs": [
        {
          "output_type": "stream",
          "name": "stdout",
          "text": [
            "Dot product between x and y:\n",
            " [[19 22]\n",
            " [50 58]]\n"
          ]
        }
      ]
    },
    {
      "cell_type": "code",
      "source": [
        "concat_xy = np.concatenate((x, y), axis=1)\n",
        "print(\"Concatenate x and y along rows:\\n\", concat_xy)"
      ],
      "metadata": {
        "colab": {
          "base_uri": "https://localhost:8080/"
        },
        "id": "FV8NyJaTgKG9",
        "outputId": "2696f7cc-fa7b-41f2-b24c-dbd252c81da5"
      },
      "execution_count": 43,
      "outputs": [
        {
          "output_type": "stream",
          "name": "stdout",
          "text": [
            "Concatenate x and y along rows:\n",
            " [[1 2 5 6]\n",
            " [3 5 7 8]]\n"
          ]
        }
      ]
    },
    {
      "cell_type": "code",
      "source": [
        "v_w_reshaped = np.vstack((v, w))  # To make both v and w 2D for vertical stacking\n",
        "print(\"Concatenate v and w along columns:\\n\", v_w_reshaped)"
      ],
      "metadata": {
        "colab": {
          "base_uri": "https://localhost:8080/"
        },
        "id": "Gtp8L5zigKPz",
        "outputId": "ae1b4847-8f9f-4971-e842-53d1935fb637"
      },
      "execution_count": 44,
      "outputs": [
        {
          "output_type": "stream",
          "name": "stdout",
          "text": [
            "Concatenate v and w along columns:\n",
            " [[ 9 10]\n",
            " [11 12]]\n"
          ]
        }
      ]
    },
    {
      "cell_type": "code",
      "source": [
        "try:\n",
        "    concat_xv = np.concatenate((x, v), axis=1)  # This will fail because x is 2D and v is 1D\n",
        "    print(\"Concatenate x and v:\\n\", concat_xv)\n",
        "except ValueError as e:\n",
        "    print(f\"Error: {e}\")"
      ],
      "metadata": {
        "id": "0Tu6TghogQam",
        "outputId": "b780e01e-f070-45d2-8cdc-fd80f1bef66a",
        "colab": {
          "base_uri": "https://localhost:8080/"
        }
      },
      "execution_count": 45,
      "outputs": [
        {
          "output_type": "stream",
          "name": "stdout",
          "text": [
            "Error: all the input arrays must have same number of dimensions, but the array at index 0 has 2 dimension(s) and the array at index 1 has 1 dimension(s)\n"
          ]
        }
      ]
    },
    {
      "cell_type": "code",
      "source": [
        "# Define matrix A\n",
        "A = np.array([[3, 4], [7, 8]])\n",
        "\n",
        "# Compute inverse of A\n",
        "A_inv = np.linalg.inv(A)\n",
        "\n",
        "# Compute A * A_inv\n",
        "I = np.dot(A, A_inv)\n",
        "\n",
        "# Print results\n",
        "print(\"A:\\n\", A)\n",
        "print(\"A_inv:\\n\", A_inv)\n",
        "print(\"A * A_inv:\\n\", I)\n",
        "\n",
        "# Check if A * A_inv is close to identity matrix\n",
        "print(\"Is A * A_inv close to identity matrix?\", np.allclose(I, np.eye(2)))"
      ],
      "metadata": {
        "colab": {
          "base_uri": "https://localhost:8080/"
        },
        "id": "jOz4hUThx8uH",
        "outputId": "3be3898a-c182-410a-f182-72f4ed46fd65"
      },
      "execution_count": 48,
      "outputs": [
        {
          "output_type": "stream",
          "name": "stdout",
          "text": [
            "A:\n",
            " [[3 4]\n",
            " [7 8]]\n",
            "A_inv:\n",
            " [[-2.    1.  ]\n",
            " [ 1.75 -0.75]]\n",
            "A * A_inv:\n",
            " [[1.00000000e+00 0.00000000e+00]\n",
            " [1.77635684e-15 1.00000000e+00]]\n",
            "Is A * A_inv close to identity matrix? True\n"
          ]
        }
      ]
    },
    {
      "cell_type": "code",
      "source": [
        "# Define the coefficient matrix A\n",
        "A = np.array([[2, -3, 1],\n",
        "              [1, -1, 2],\n",
        "              [3, 1, -1]])\n",
        "\n",
        "# Define the constant matrix B\n",
        "B = np.array([-1, -3, 9])\n",
        "\n",
        "# Compute the inverse of A\n",
        "A_inv = np.linalg.inv(A)\n",
        "\n",
        "# Solve for X\n",
        "X = np.dot(A_inv, B)\n",
        "\n",
        "# Print the result\n",
        "print(\"Solution for x, y, z:\", X)"
      ],
      "metadata": {
        "colab": {
          "base_uri": "https://localhost:8080/"
        },
        "id": "Z32SF42wyw5D",
        "outputId": "cfcfe82e-6f29-4d13-d1ba-0d9b80a4192c"
      },
      "execution_count": 49,
      "outputs": [
        {
          "output_type": "stream",
          "name": "stdout",
          "text": [
            "Solution for x, y, z: [ 2.  1. -2.]\n"
          ]
        }
      ]
    },
    {
      "cell_type": "code",
      "source": [
        "# Define the coefficient matrix A\n",
        "A = np.array([[2, -3, 1],\n",
        "              [1, -1, 2],\n",
        "              [3, 1, -1]])\n",
        "\n",
        "# Define the constant matrix B\n",
        "B = np.array([-1, -3, 9])\n",
        "\n",
        "# Solve for X using A⁻¹ * B\n",
        "X = np.linalg.inv(A) @ B  # Alternative: np.dot(np.linalg.inv(A), B)\n",
        "\n",
        "# Print the result\n",
        "print(\"Solution for x, y, z:\", X)"
      ],
      "metadata": {
        "colab": {
          "base_uri": "https://localhost:8080/"
        },
        "id": "m1bHnhO1zImV",
        "outputId": "2ab7b0ed-b0ec-4d96-b3c3-e63a90485642"
      },
      "execution_count": 50,
      "outputs": [
        {
          "output_type": "stream",
          "name": "stdout",
          "text": [
            "Solution for x, y, z: [ 2.  1. -2.]\n"
          ]
        }
      ]
    },
    {
      "cell_type": "markdown",
      "source": [
        "## How fast is numpy and python\n"
      ],
      "metadata": {
        "id": "oNyzlHXG1JQ7"
      }
    },
    {
      "cell_type": "code",
      "source": [
        "#Question 1\n",
        "#Python\n",
        "import time\n",
        "import random\n",
        "#generate two large lists of size 1,000,000 with random integers\n",
        "size = 1_000_000\n",
        "list1 = [random.randint(1, 100) for _ in range(size)]\n",
        "list2 = [random.randint(1, 100) for _ in range(size)]\n",
        "\n",
        "#measure the time for element-wise addition\n",
        "start_time = time.time()\n",
        "result = [list1[i] + list2[i] for i in range(size)]\n",
        "end_time = time.time()\n",
        "\n",
        "#print the time taken\n",
        "print(f\"Time taken for element-wise addition using Python lists: {end_time - start_time:.5f} seconds\")"
      ],
      "metadata": {
        "colab": {
          "base_uri": "https://localhost:8080/"
        },
        "id": "BXvwzQBqzKmU",
        "outputId": "cfd8b5e8-0b43-4eef-bd2c-29bac7782e8d"
      },
      "execution_count": 54,
      "outputs": [
        {
          "output_type": "stream",
          "name": "stdout",
          "text": [
            "Time taken for element-wise addition using Python lists: 0.05743 seconds\n"
          ]
        }
      ]
    },
    {
      "cell_type": "code",
      "source": [
        "#Numpy\n",
        "# Generate two large NumPy arrays of size 1,000,000 with random integers\n",
        "array1 = np.random.randint(1, 101, size)\n",
        "array2 = np.random.randint(1, 101, size)\n",
        "\n",
        "# Measure the time for element-wise addition using NumPy arrays\n",
        "start_time = time.time()\n",
        "result_array = array1 + array2  # NumPy's vectorized addition\n",
        "end_time = time.time()\n",
        "\n",
        "# Print the time taken\n",
        "print(f\"Time taken for element-wise addition using NumPy: {end_time - start_time:.5f} seconds\")\n"
      ],
      "metadata": {
        "colab": {
          "base_uri": "https://localhost:8080/"
        },
        "id": "GbONvgHI03CG",
        "outputId": "0ada2d57-9655-42b1-c0c3-78a77e7f0d7a"
      },
      "execution_count": 52,
      "outputs": [
        {
          "output_type": "stream",
          "name": "stdout",
          "text": [
            "Time taken for element-wise addition using NumPy: 0.01081 seconds\n"
          ]
        }
      ]
    },
    {
      "cell_type": "code",
      "source": [
        "# Question 2\n",
        "#Python\n",
        "# Generate two large lists of size 1,000,000 with random integers\n",
        "size = 1_000_000\n",
        "list1 = [random.randint(1, 100) for _ in range(size)]\n",
        "list2 = [random.randint(1, 100) for _ in range(size)]\n",
        "\n",
        "# Measure the time for element-wise multiplication using lists\n",
        "start_time = time.time()\n",
        "result_list = [list1[i] * list2[i] for i in range(size)]\n",
        "end_time = time.time()\n",
        "\n",
        "# Print the time taken\n",
        "print(f\"Time taken for element-wise multiplication using Python lists: {end_time - start_time:.5f} seconds\")\n"
      ],
      "metadata": {
        "id": "AWrhrWN51Bt2"
      },
      "execution_count": null,
      "outputs": []
    },
    {
      "cell_type": "code",
      "source": [
        "#Numpy\n",
        "# Generate two large NumPy arrays of size 1,000,000 with random integers\n",
        "array1 = np.random.randint(1, 101, size)\n",
        "array2 = np.random.randint(1, 101, size)\n",
        "\n",
        "# Measure the time for element-wise multiplication using NumPy arrays\n",
        "start_time = time.time()\n",
        "result_array = array1 * array2  # NumPy's vectorized multiplication\n",
        "end_time = time.time()\n",
        "\n",
        "# Print the time taken\n",
        "print(f\"Time taken for element-wise multiplication using NumPy: {end_time - start_time:.5f} seconds\")"
      ],
      "metadata": {
        "colab": {
          "base_uri": "https://localhost:8080/"
        },
        "id": "oEZseqH_1DeG",
        "outputId": "67b60380-8bf8-42ed-e188-9aca28d84ea5"
      },
      "execution_count": 56,
      "outputs": [
        {
          "output_type": "stream",
          "name": "stdout",
          "text": [
            "Time taken for element-wise multiplication using NumPy: 0.00462 seconds\n"
          ]
        }
      ]
    },
    {
      "cell_type": "code",
      "source": [
        "# Question 3\n",
        "#Python\n",
        "# Generate two large lists of size 1,000,000 with random integers\n",
        "size = 1_000_000\n",
        "list1 = [random.randint(1, 100) for _ in range(size)]\n",
        "list2 = [random.randint(1, 100) for _ in range(size)]\n",
        "\n",
        "# Measure the time for dot product using lists\n",
        "start_time = time.time()\n",
        "dot_product = sum(list1[i] * list2[i] for i in range(size))  # Manual dot product calculation\n",
        "end_time = time.time()\n",
        "\n",
        "# Print the time taken\n",
        "print(f\"Time taken for dot product using Python lists: {end_time - start_time:.5f} seconds\")\n",
        "print(f\"Dot Product (Python List): {dot_product}\")\n"
      ],
      "metadata": {
        "colab": {
          "base_uri": "https://localhost:8080/"
        },
        "id": "qtRZeVEx1DpM",
        "outputId": "5b871338-1346-4ae3-c9af-b38249aaa85f"
      },
      "execution_count": 57,
      "outputs": [
        {
          "output_type": "stream",
          "name": "stdout",
          "text": [
            "Time taken for dot product using Python lists: 0.08269 seconds\n",
            "Dot Product (Python List): 2549860040\n"
          ]
        }
      ]
    },
    {
      "cell_type": "code",
      "source": [
        "# Numpy\n",
        "# Generate two large NumPy arrays of size 1,000,000 with random integers\n",
        "array1 = np.random.randint(1, 101, size)\n",
        "array2 = np.random.randint(1, 101, size)\n",
        "\n",
        "# Measure the time for dot product using NumPy arrays\n",
        "start_time = time.time()\n",
        "dot_product_np = np.dot(array1, array2)  # NumPy's optimized dot product function\n",
        "end_time = time.time()\n",
        "\n",
        "# Print the time taken\n",
        "print(f\"Time taken for dot product using NumPy: {end_time - start_time:.5f} seconds\")\n",
        "print(f\"Dot Product (NumPy): {dot_product_np}\")"
      ],
      "metadata": {
        "colab": {
          "base_uri": "https://localhost:8080/"
        },
        "id": "R7Qa-Xxi1DwF",
        "outputId": "025b92ff-8567-448d-b575-f9161ad7d1dd"
      },
      "execution_count": 58,
      "outputs": [
        {
          "output_type": "stream",
          "name": "stdout",
          "text": [
            "Time taken for dot product using NumPy: 0.00242 seconds\n",
            "Dot Product (NumPy): 2550335984\n"
          ]
        }
      ]
    },
    {
      "cell_type": "code",
      "source": [
        "# Question 4\n",
        "size = 100  # Reduce the size for testing\n",
        "matrix1 = [[random.randint(1, 100) for _ in range(size)] for _ in range(size)]\n",
        "matrix2 = [[random.randint(1, 100) for _ in range(size)] for _ in range(size)]\n",
        "\n",
        "start_time = time.time()\n",
        "result = [[sum(matrix1[i][k] * matrix2[k][j] for k in range(size)) for j in range(size)] for i in range(size)]\n",
        "end_time = time.time()\n",
        "\n",
        "print(f\"Time taken for 100x100 matrix multiplication using Python lists: {end_time - start_time:.5f} seconds\")"
      ],
      "metadata": {
        "colab": {
          "base_uri": "https://localhost:8080/"
        },
        "id": "lpVumIqC1D5B",
        "outputId": "3f7a170b-aa0f-461a-fc4f-5cd8693c4dc9"
      },
      "execution_count": 60,
      "outputs": [
        {
          "output_type": "stream",
          "name": "stdout",
          "text": [
            "Time taken for 100x100 matrix multiplication using Python lists: 0.21634 seconds\n"
          ]
        }
      ]
    },
    {
      "cell_type": "code",
      "source": [
        "# Generate two 1000x1000 NumPy arrays with random integers\n",
        "matrix1_np = np.random.randint(1, 101, (size, size))\n",
        "matrix2_np = np.random.randint(1, 101, (size, size))\n",
        "\n",
        "# Measure the time for matrix multiplication using NumPy\n",
        "start_time = time.time()\n",
        "result_np = np.dot(matrix1_np, matrix2_np)  # Optimized matrix multiplication\n",
        "end_time = time.time()\n",
        "\n",
        "# Print the time taken\n",
        "print(f\"Time taken for matrix multiplication using NumPy: {end_time - start_time:.5f} seconds\")"
      ],
      "metadata": {
        "colab": {
          "base_uri": "https://localhost:8080/"
        },
        "id": "bar_fpqC4Qh4",
        "outputId": "a5053eea-de04-4e63-b7a0-0b72fd16cb57"
      },
      "execution_count": 61,
      "outputs": [
        {
          "output_type": "stream",
          "name": "stdout",
          "text": [
            "Time taken for matrix multiplication using NumPy: 0.00111 seconds\n"
          ]
        }
      ]
    }
  ]
}